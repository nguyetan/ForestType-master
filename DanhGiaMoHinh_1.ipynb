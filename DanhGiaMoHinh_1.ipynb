{
  "cells": [
    {
      "cell_type": "markdown",
      "metadata": {},
      "source": [
        "# **Test dự liệu dựa vào 4 model**"
      ]
    },
    {
      "cell_type": "code",
      "execution_count": 148,
      "metadata": {},
      "outputs": [],
      "source": [
        "random_rows = data_nor.sample(n=1000)\n",
        "\n",
        "X_PRE = random_rows.drop('Cover_Type', axis=1)\n",
        "Y_PRE = random_rows['Cover_Type']\n",
        "\n",
        "#load model.\n",
        "KNN_Model = joblib.load('knn_model_50_30_10.pkl')\n",
        "DTC_Model = joblib.load('DecisionTreeClassifier_100_30_10.pkl')\n",
        "RFC_Model = joblib.load('RandomForestClassifier_100_30_10.pkl')\n",
        "ANN_model = load_model('ANN_Model_150_kera_30_10.h5')"
      ]
    },
    {
      "cell_type": "code",
      "execution_count": 141,
      "metadata": {},
      "outputs": [
        {
          "name": "stdout",
          "output_type": "stream",
          "text": [
            "15625/15625 [==============================] - 19s 1ms/step\n",
            "Độ chính xác của mô hình KNN: 0.988322\n",
            "Độ chính xác của mô hình Decision Tree: 0.987808\n",
            "Độ chính xác của mô hình Random Forest: 0.991438\n",
            "Độ chính xác của mô hình ANN: 0.888168\n",
            " \n",
            "Mean Squared Error của mô hình KNN:\n",
            "               precision    recall  f1-score   support\n",
            "\n",
            "           0       0.97      0.96      0.97      8144\n",
            "           1       0.97      0.97      0.97      2361\n",
            "           2       0.98      0.97      0.97     14951\n",
            "           3       0.99      0.99      0.99     17639\n",
            "           4       0.99      0.99      0.99    243445\n",
            "           5       0.99      0.99      0.99     30736\n",
            "           6       0.99      0.99      0.99    182724\n",
            "\n",
            "    accuracy                           0.99    500000\n",
            "   macro avg       0.98      0.98      0.98    500000\n",
            "weighted avg       0.99      0.99      0.99    500000\n",
            "\n",
            "Độ chính xác của mô hình Decision Tree:\n",
            "               precision    recall  f1-score   support\n",
            "\n",
            "           0       0.97      0.96      0.97      8144\n",
            "           1       0.97      0.97      0.97      2361\n",
            "           2       0.98      0.97      0.97     14951\n",
            "           3       0.99      0.99      0.99     17639\n",
            "           4       0.99      0.99      0.99    243445\n",
            "           5       0.99      0.99      0.99     30736\n",
            "           6       0.99      0.99      0.99    182724\n",
            "\n",
            "    accuracy                           0.99    500000\n",
            "   macro avg       0.98      0.98      0.98    500000\n",
            "weighted avg       0.99      0.99      0.99    500000\n",
            "\n",
            "Độ chính xác của mô hình Random Forest:\n",
            "               precision    recall  f1-score   support\n",
            "\n",
            "           0       0.98      0.97      0.97      8144\n",
            "           1       0.98      0.97      0.97      2361\n",
            "           2       0.99      0.98      0.99     14951\n",
            "           3       0.99      0.99      0.99     17639\n",
            "           4       0.99      0.99      0.99    243445\n",
            "           5       0.99      0.99      0.99     30736\n",
            "           6       0.99      0.99      0.99    182724\n",
            "\n",
            "    accuracy                           0.99    500000\n",
            "   macro avg       0.99      0.98      0.99    500000\n",
            "weighted avg       0.99      0.99      0.99    500000\n",
            "\n",
            "Độ chính xác của mô hình ANN:\n",
            "               precision    recall  f1-score   support\n",
            "\n",
            "           0       0.77      0.74      0.76      8144\n",
            "           1       0.91      0.62      0.73      2361\n",
            "           2       0.80      0.80      0.80     14951\n",
            "           3       0.92      0.84      0.88     17639\n",
            "           4       0.91      0.90      0.90    243445\n",
            "           5       0.88      0.91      0.90     30736\n",
            "           6       0.87      0.89      0.88    182724\n",
            "\n",
            "    accuracy                           0.89    500000\n",
            "   macro avg       0.87      0.81      0.84    500000\n",
            "weighted avg       0.89      0.89      0.89    500000\n",
            "\n"
          ]
        }
      ],
      "source": [
        "# Dự đoán với các mô hình\n",
        "knn_predictions = KNN_Model.predict(X_PRE)\n",
        "decision_tree_predictions = DTC_Model.predict(X_PRE)\n",
        "random_forest_predictions = RFC_Model.predict(X_PRE)\n",
        "ann_predictions = np.argmax(ANN_model.predict(X_PRE), axis=1)  # Vì kết quả trả về dưới dạng one-hot encoding\n",
        "\n",
        "\n",
        "# Đánh giá độ chính xác\n",
        "knn_accuracy= accuracy_score(Y_PRE, knn_predictions)\n",
        "decision_tree_accuracy = accuracy_score(Y_PRE, decision_tree_predictions)\n",
        "random_forest_accuracy = accuracy_score(Y_PRE, random_forest_predictions)\n",
        "ann_accuracy = accuracy_score(Y_PRE, ann_predictions)\n",
        "\n",
        "# In độ chính xác của từng mô hình\n",
        "print(f\"Độ chính xác của mô hình KNN: {knn_accuracy}\")\n",
        "print(f\"Độ chính xác của mô hình Decision Tree: {decision_tree_accuracy}\")\n",
        "print(f\"Độ chính xác của mô hình Random Forest: {random_forest_accuracy}\")\n",
        "print(f\"Độ chính xác của mô hình ANN: {ann_accuracy}\\n \")\n",
        "\n",
        "# Đánh giá độ chính xác\n",
        "knn_class_report = classification_report(Y_PRE, knn_predictions)\n",
        "decision_tree_class_report = classification_report(Y_PRE, decision_tree_predictions)\n",
        "random_forest_class_report = classification_report(Y_PRE, random_forest_predictions)\n",
        "ann_class_report = classification_report(Y_PRE, ann_predictions)\n",
        "\n",
        "# In độ chính xác của từng mô hình\n",
        "print(f\"Mean Squared Error của mô hình KNN:\\n {knn_class_report}\")\n",
        "print(f\"Độ chính xác của mô hình Decision Tree:\\n {decision_tree_class_report}\")\n",
        "print(f\"Độ chính xác của mô hình Random Forest:\\n {random_forest_class_report}\")\n",
        "print(f\"Độ chính xác của mô hình ANN:\\n {ann_class_report}\")\n"
      ]
    }
  ],
  "metadata": {
    "colab": {
      "provenance": []
    },
    "kernelspec": {
      "display_name": "Python 3",
      "name": "python3"
    },
    "language_info": {
      "codemirror_mode": {
        "name": "ipython",
        "version": 3
      },
      "file_extension": ".py",
      "mimetype": "text/x-python",
      "name": "python",
      "nbconvert_exporter": "python",
      "pygments_lexer": "ipython3",
      "version": "3.11.0"
    }
  },
  "nbformat": 4,
  "nbformat_minor": 0
}
